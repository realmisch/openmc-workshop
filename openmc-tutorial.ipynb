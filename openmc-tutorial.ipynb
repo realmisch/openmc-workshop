{
 "cells": [
  {
   "cell_type": "markdown",
   "id": "4d54fa20-2f08-46fb-8713-9005df1f5397",
   "metadata": {},
   "source": [
    "# OpenMC Example\n",
    "\n",
    "## Create a full core configuration\n",
    "    Assemblies are 17x17 lattices of UO2 fuel pins\n",
    "    Total Volume of 32.63 m^3\n",
    "    Thermal Power of 3.3 GW\n",
    "\n",
    "## Fuel Pins:\n",
    "    Pitch of 1.4 cm between each pin\n",
    "\n",
    "    1.5% Enriched Uranium\n",
    "    UO2 Density = 10.4 g/cm3\n",
    "    Fuel outer radius = 0.5207 cm\n",
    "\n",
    "    Helium Gap Fill\n",
    "    He Density = 0.125 g/cm3\n",
    "    Gap outer radius = 0.53213 cm\n",
    "\n",
    "    Pure Zirconium Cladding\n",
    "    Zr Density = 6.0 g/cm3\n",
    "    Clad outer radius = 0.61341 cm\n",
    "\n",
    "    External Water Coolant\n",
    "    "
   ]
  },
  {
   "cell_type": "markdown",
   "id": "ac6b5d36-4c14-4674-a9e3-d14e5bd5fdab",
   "metadata": {},
   "source": [
    "## Import Modules\n",
    "    numpy for math functions/constants\n",
    "    matplotlib.pyplot for visualization\n",
    "    openmc\n",
    "    openmc.deplete for depletion"
   ]
  },
  {
   "cell_type": "code",
   "execution_count": null,
   "id": "ebd974c6-90d6-451d-b18f-b6255fb4e90e",
   "metadata": {},
   "outputs": [],
   "source": [
    "%matplotlib inline\n",
    "from IPython.display import Image"
   ]
  },
  {
   "cell_type": "markdown",
   "id": "a7887aa5-2d2d-4f36-8076-2815b51d5821",
   "metadata": {},
   "source": [
    "## Material Definitions\n",
    "    UO2 : 1.5% Enrichment, 10.4 g/cm3 !!! O in UO2 S(α,β) !!!\n",
    "    He  : 0.125 g/cm3\n",
    "    Zr  : 6.0 g/cm3\n",
    "    H2O : 1.00 g/cm3, !!! H in H2O S(α,β) !!!\n",
    "    "
   ]
  },
  {
   "cell_type": "code",
   "execution_count": null,
   "id": "ea7841fd-5256-43db-bfc5-4531b2e5d6a4",
   "metadata": {},
   "outputs": [],
   "source": []
  },
  {
   "cell_type": "markdown",
   "id": "d722a439-2d67-457a-adc9-ffe96ac99ab8",
   "metadata": {},
   "source": [
    "## Geometry Definitions\n",
    "    Pin Radii [0.52070, 0.53213, 0.61341] cm\n",
    "    Assembly = 17x17 pins, pitch = 1.4\n",
    "    Core = 15x15 circle of assemblies\n",
    "    "
   ]
  },
  {
   "cell_type": "code",
   "execution_count": null,
   "id": "3398f8b8-0c6a-4f21-a936-bf73a6a609e8",
   "metadata": {},
   "outputs": [],
   "source": []
  },
  {
   "cell_type": "markdown",
   "id": "608d0fd2-ffe6-49fb-83bb-ee09cb14f577",
   "metadata": {},
   "source": [
    "## Tally Definitions\n",
    "    Add a 1000x1000 tally mesh filter\n",
    "    Add a 500 bin energy filter between 0.1 meV and 10 MeV\n",
    "\n",
    "    Implement a Fission, Absorption, and Flux tally\n",
    "    Normalize with respect to a κ-fission tally"
   ]
  },
  {
   "cell_type": "code",
   "execution_count": null,
   "id": "e24c0c4d-2723-437d-b1cc-4b7e8c13d687",
   "metadata": {},
   "outputs": [],
   "source": []
  },
  {
   "cell_type": "markdown",
   "id": "6d85b68d-1250-4c37-90c6-64bfb507b0a1",
   "metadata": {},
   "source": [
    "## Settings\n",
    "    Initialize a random seed with 2^31 - 1\n",
    "    Use 300 total batches\n",
    "    Use 90 inactive batches\n",
    "    Use 10,000 particles\n",
    "\n",
    "    add an entropy mesh of size [60, 60]\n",
    "\n",
    "    export to a model\n",
    "    "
   ]
  },
  {
   "cell_type": "code",
   "execution_count": null,
   "id": "04dd5342-cdb0-400e-82f2-6a8462182723",
   "metadata": {},
   "outputs": [],
   "source": []
  },
  {
   "cell_type": "markdown",
   "id": "d4649112-a681-4c95-9fa8-f2c849299f15",
   "metadata": {},
   "source": [
    "## Postprocessing\n",
    "    Total Reactor Volume = 32.63 m3\n",
    "    Average Energy per Fission = 190 MeV\n",
    "    \n",
    "### Get Tallies from statepoint\n",
    "    .get_tally(name = tally_name).get_reshaped_data().reshape((shape))\n",
    "    \n",
    "### Normalize all tallies\n",
    "    f = (Power)/(norm) [particle / s]\n",
    "### Visualize Fission and Absorption Tallies over space [reactions / particle] -> [reactions / s]\n",
    "    reaction rate = (f)*(reaction_tally)\n",
    "### Visualize Flux Tally over energy [neutron * cm / particle] -> [neutron / cm2 / s]\n",
    "    flux = (f)*(flux_tally)/(Volume)"
   ]
  },
  {
   "cell_type": "code",
   "execution_count": null,
   "id": "81e4e4e9-1dae-45b6-8929-d0f0f8954e7d",
   "metadata": {},
   "outputs": [],
   "source": []
  },
  {
   "cell_type": "markdown",
   "id": "252ca822-e13f-40ba-b88f-2b3906f70c3f",
   "metadata": {},
   "source": [
    "## Depletion\n",
    "    Use a CoupledOperator with the 'simple_chain.xml'\n",
    "    Power Total Power = 3.3 GW\n",
    "    Fuel Volume = 1.7428e7 cm3\n",
    "\n",
    "    10 timesteps of 12 hours\n",
    "    Use a PredictorIntegrator"
   ]
  },
  {
   "cell_type": "code",
   "execution_count": null,
   "id": "089d5d7f-c0f0-49af-95df-5be03f38e2fd",
   "metadata": {},
   "outputs": [],
   "source": []
  },
  {
   "cell_type": "markdown",
   "id": "df0f61cb",
   "metadata": {},
   "source": [
    "# Depletion Results\n",
    "## Get results from Results file\n",
    "    openmc.deplete.Results\n",
    "\n",
    "    time, keff = results.get_keff()\n",
    "    time /= 86400\n",
    "\n",
    "    _, isotope = results.get_atoms('1','AnZ')\n",
    "\n",
    "## Plot Xe135, I135, Pm149, and Sm149"
   ]
  },
  {
   "cell_type": "code",
   "execution_count": null,
   "id": "6c8ddace",
   "metadata": {
    "vscode": {
     "languageId": "plaintext"
    }
   },
   "outputs": [],
   "source": []
  }
 ],
 "metadata": {
  "kernelspec": {
   "display_name": "Python 3 (ipykernel)",
   "language": "python",
   "name": "python3"
  },
  "language_info": {
   "codemirror_mode": {
    "name": "ipython",
    "version": 3
   },
   "file_extension": ".py",
   "mimetype": "text/x-python",
   "name": "python",
   "nbconvert_exporter": "python",
   "pygments_lexer": "ipython3",
   "version": "3.9.18"
  }
 },
 "nbformat": 4,
 "nbformat_minor": 5
}
